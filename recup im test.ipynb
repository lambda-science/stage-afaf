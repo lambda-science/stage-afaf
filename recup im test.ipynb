{
 "cells": [
  {
   "cell_type": "code",
   "execution_count": 1,
   "metadata": {},
   "outputs": [],
   "source": [
    "import os"
   ]
  },
  {
   "cell_type": "code",
   "execution_count": 5,
   "metadata": {},
   "outputs": [
    {
     "data": {
      "text/plain": [
       "['30.jpg', '5.jpg']"
      ]
     },
     "execution_count": 5,
     "metadata": {},
     "output_type": "execute_result"
    }
   ],
   "source": [
    "flist = [f for f in os.listdir(\"/Users/afaf/stage-afaf/images\") ]\n",
    "flist"
   ]
  },
  {
   "cell_type": "code",
   "execution_count": 7,
   "metadata": {},
   "outputs": [],
   "source": [
    "import subprocess"
   ]
  },
  {
   "cell_type": "code",
   "execution_count": 9,
   "metadata": {},
   "outputs": [
    {
     "name": "stdout",
     "output_type": "stream",
     "text": [
      "30.jpg\n",
      "5.jpg\n"
     ]
    }
   ],
   "source": [
    "for chemin_image in flist:\n",
    "    print(chemin_image)"
   ]
  },
  {
   "cell_type": "code",
   "execution_count": 20,
   "metadata": {},
   "outputs": [
    {
     "data": {
      "text/plain": [
       "'/Users/afaf/stage-afaf/5_nuc_details.csv'"
      ]
     },
     "execution_count": 20,
     "metadata": {},
     "output_type": "execute_result"
    }
   ],
   "source": [
    "path= os.path.realpath('5_nuc_details.csv')\n",
    "path"
   ]
  },
  {
   "cell_type": "code",
   "execution_count": 23,
   "metadata": {},
   "outputs": [
    {
     "data": {
      "text/plain": [
       "['/Users/afaf/stage-afaf/images/30.jpg', '/Users/afaf/stage-afaf/images/5.jpg']"
      ]
     },
     "execution_count": 23,
     "metadata": {},
     "output_type": "execute_result"
    }
   ],
   "source": [
    "file_paths = []\n",
    "\n",
    "for folder, subs, files in os.walk(\"/Users/afaf/stage-afaf/images\"):\n",
    "  for filename in files:\n",
    "    file_paths.append(os.path.abspath(os.path.join(folder, filename)))\n",
    "\n",
    "file_paths"
   ]
  },
  {
   "cell_type": "code",
   "execution_count": 24,
   "metadata": {},
   "outputs": [
    {
     "name": "stdout",
     "output_type": "stream",
     "text": [
      "/Users/afaf/stage-afaf/images/30.jpg\n",
      "/Users/afaf/stage-afaf/images/5.jpg\n"
     ]
    }
   ],
   "source": [
    "for chemin_image in file_paths:\n",
    "    print (chemin_image)"
   ]
  },
  {
   "cell_type": "code",
   "execution_count": null,
   "metadata": {},
   "outputs": [],
   "source": []
  }
 ],
 "metadata": {
  "kernelspec": {
   "display_name": "Python 3.9.13 ('stage-afaf')",
   "language": "python",
   "name": "python3"
  },
  "language_info": {
   "codemirror_mode": {
    "name": "ipython",
    "version": 3
   },
   "file_extension": ".py",
   "mimetype": "text/x-python",
   "name": "python",
   "nbconvert_exporter": "python",
   "pygments_lexer": "ipython3",
   "version": "3.9.13"
  },
  "orig_nbformat": 4,
  "vscode": {
   "interpreter": {
    "hash": "d0f278cb1c0d1780c7b3f81b6d83f04ff3238e002e40dd73cadd16a5dde7e268"
   }
  }
 },
 "nbformat": 4,
 "nbformat_minor": 2
}
