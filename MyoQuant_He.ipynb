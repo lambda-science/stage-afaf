{
 "cells": [
  {
   "cell_type": "code",
   "execution_count": null,
   "metadata": {},
   "outputs": [],
   "source": [
    "import subprocess"
   ]
  },
  {
   "cell_type": "code",
   "execution_count": null,
   "metadata": {},
   "outputs": [],
   "source": [
    "subprocess.run('ls')"
   ]
  },
  {
   "cell_type": "code",
   "execution_count": null,
   "metadata": {},
   "outputs": [],
   "source": [
    "import os, sys\n",
    "\n",
    "# Open a file\n",
    "path = \"/Users/afaf/stage-afaf/images\"\n",
    "dirs = os.listdir( path )\n",
    "\n",
    "# This would print all the files and directories\n",
    "for file in dirs:\n",
    "   print(file)"
   ]
  },
  {
   "cell_type": "code",
   "execution_count": null,
   "metadata": {},
   "outputs": [],
   "source": [
    "dirs"
   ]
  },
  {
   "cell_type": "code",
   "execution_count": null,
   "metadata": {},
   "outputs": [],
   "source": [
    "file_paths = []\n",
    "\n",
    "for folder, subs, files in os.walk(\"/Users/afaf/stage-afaf/images\"):\n",
    "  for filename in files:\n",
    "    file_paths.append(os.path.abspath(os.path.join(folder, filename)))\n",
    "\n",
    "file_paths"
   ]
  },
  {
   "cell_type": "code",
   "execution_count": null,
   "metadata": {},
   "outputs": [],
   "source": [
    "for chemin_image in file_paths:\n",
    "    myoquant= subprocess.run(['myoquant', \"he-analysis\", chemin_image,'--output-path',  '/Users/afaf/stage-afaf/data'])\n",
    "\n",
    "    "
   ]
  },
  {
   "cell_type": "code",
   "execution_count": null,
   "metadata": {},
   "outputs": [],
   "source": [
    "import pandas as pd"
   ]
  },
  {
   "cell_type": "code",
   "execution_count": null,
   "metadata": {},
   "outputs": [],
   "source": [
    "df_30= pd.read_csv('data/30_results_summary.csv')\n",
    "df_30"
   ]
  },
  {
   "cell_type": "code",
   "execution_count": null,
   "metadata": {},
   "outputs": [],
   "source": [
    "df_30c=pd.read_csv('data/30_cell_details.csv')\n",
    "df_30c"
   ]
  },
  {
   "cell_type": "code",
   "execution_count": null,
   "metadata": {},
   "outputs": [],
   "source": [
    "fichier_details = []\n",
    "\n",
    "for folder, subs, files in os.walk(\"/Users/afaf/stage-afaf/data\"):\n",
    "  for filename in files:\n",
    "    if filename.endswith(('_cell_details.csv')):\n",
    "        fichier_details.append(os.path.abspath(os.path.join(folder, filename)))\n",
    "\n",
    "fichier_details"
   ]
  },
  {
   "cell_type": "code",
   "execution_count": null,
   "metadata": {},
   "outputs": [],
   "source": [
    "df=pd.read_csv('muscle_atlas_clean.csv') #atlas du muscle\n",
    "df_cell=pd.read_csv('data/30_cell_details.csv')\n",
    "\n",
    "\n",
    "\n",
    "def conversion_pix_µm(im, data_frame,muscle_atlas):\n",
    "    'Convertion du diamètre en µm'\n",
    "    barre_echelle= muscle_atlas.loc[(df['Number']== im), 'Calibration (um/px)']\n",
    "    \n",
    "    data_frame['diameter_µm']=(data_frame['feret_diameter_max'])*barre_echelle.values\n",
    "\n",
    "conversion_pix_µm('5.jpg',df_cell,df )\n",
    "\n",
    "def count_atrophic_cells (data_frame,min_size, max_size):\n",
    "    hyper='Hypertrophy'\n",
    "    hypo= 'Hypotrophy'\n",
    "    norm= 'Normal'\n",
    "    data_frame[\"State_cell\"] = ''\n",
    "    for index in data_frame.index:\n",
    "        a=data_frame['diameter_µm'][index]\n",
    "        if a > max_size:\n",
    "            data_frame[\"State_cell\"][index]=hyper\n",
    "        elif a < min_size:\n",
    "            data_frame[\"State_cell\"][index]=hypo\n",
    "        else: \n",
    "            data_frame[\"State_cell\"][index]= norm\n",
    "\n",
    "\n",
    "count_atrophic_cells (df_cell, 30, 80)\n",
    "\n",
    "df_cell"
   ]
  },
  {
   "cell_type": "code",
   "execution_count": null,
   "metadata": {},
   "outputs": [],
   "source": [
    "def pourcentage_state_cell (im,data_frame,muscle_atlas):\n",
    "     data = {'Number':[],'Hypertrophy': [],'Normal':[],'Hypotrophy': []}  # Ici on créer un dataframe pour mettre ensuite les valeurs des pourcentages\n",
    "     df_state_cell = pd.DataFrame(data)  \n",
    "     percentage= (data_frame['State_cell'].value_counts()/data_frame['State_cell'].count())*100\n",
    "     df_state_cell.loc[len(df_state_cell.index)] = percentage\n",
    "\n",
    "     \n",
    "     muscle_atlas.loc[(muscle_atlas['Number']== im),\"Hypertrophic_cell_%\"]=df_state_cell['Hypertrophy'].values\n",
    "     muscle_atlas.loc[(muscle_atlas['Number']== im),\"Normal_cell_%\"]=df_state_cell['Normal'].values\n",
    "     muscle_atlas.loc[(muscle_atlas['Number']== im),\"Hypotrophic_cell_%\"]=df_state_cell['Hypotrophy'].values\n",
    "\n",
    "\n",
    "pourcentage_state_cell ('30.jpg',df_cell,df)  \n",
    "df.head(10)\n"
   ]
  },
  {
   "cell_type": "code",
   "execution_count": null,
   "metadata": {},
   "outputs": [],
   "source": [
    "def diameter_mean_std (im,data_frame,muscle_atlas):\n",
    "    cell_mean=data_frame['diameter_µm'].mean()\n",
    "    cell_std=data_frame['diameter_µm'].std()\n",
    "    muscle_atlas.loc[(muscle_atlas['Number']== im),\"diameter_mean\"]=cell_mean\n",
    "    muscle_atlas.loc[(muscle_atlas['Number']== im),\"diameter_std\"]=cell_std\n",
    "\n",
    "\n",
    "diameter_mean_std('30.jpg',df_cell,df)   \n",
    "df.head(10)"
   ]
  },
  {
   "cell_type": "code",
   "execution_count": null,
   "metadata": {},
   "outputs": [],
   "source": [
    "fichier = []\n",
    "\n",
    "for folder, subs, files in os.walk(\"/Users/afaf/stage-afaf/data\"):\n",
    "  for filename in files:\n",
    "    if filename.endswith(('_results_summary.csv',)):\n",
    "        fichier.append(os.path.abspath(os.path.join(folder, filename)))\n",
    "\n",
    "fichier"
   ]
  },
  {
   "cell_type": "code",
   "execution_count": null,
   "metadata": {},
   "outputs": [],
   "source": [
    "df_results_summary=pd.read_csv('data/30_results_summary.csv')\n",
    "df3=df_results_summary.set_index('Feature')\n",
    "df4=df3.transpose()\n",
    "df4"
   ]
  },
  {
   "cell_type": "code",
   "execution_count": null,
   "metadata": {},
   "outputs": [],
   "source": [
    "#test\n",
    "df.loc[(df['Number']== '30.jpg'),\"Proportion_nuclei\"]=df4.loc['Raw Count','N° Nuclei']\n",
    "df.head(10)"
   ]
  },
  {
   "cell_type": "code",
   "execution_count": null,
   "metadata": {},
   "outputs": [],
   "source": [
    "def ajout_He (im,dataframe,muscle_atlas):\n",
    "    muscle_atlas.loc[(muscle_atlas['Number']== im),\"Proportion_nuclei\"]=dataframe.loc['Proportion (%)','N° Nuclei']\n",
    "    #muscle_atlas.loc[(muscle_atlas['Number']== im),\"Number_nuclei\"]=dataframe.loc['Raw count','N° Nuclei']\n",
    "    muscle_atlas.loc[(muscle_atlas['Number']== im),\"Number_nuclei\"]=dataframe.iloc[0,0]\n",
    "    muscle_atlas.loc[(muscle_atlas['Number']== im),\"Proportion_intern_nuclei\"]=dataframe.loc['Proportion (%)','N° Intern. Nuclei']\n",
    "    #muscle_atlas.loc[(muscle_atlas['Number']== im),\"Number_intern_nuclei\"]=dataframe.loc['Raw Count','N° Intern. Nuclei']\n",
    "    muscle_atlas.loc[(muscle_atlas['Number']== im),\"Number_intern_nuclei\"]=dataframe.iloc[0,1]\n",
    "    #muscle_atlas.loc[(muscle_atlas['Number']== im),\"Number_Periph_nuclei\"]=dataframe.loc['Raw count','N° Periph. Nuclei']\n",
    "    muscle_atlas.loc[(muscle_atlas['Number']== im),\"Number_Periph_nuclei\"]=dataframe.iloc[0,2]\n",
    "    muscle_atlas.loc[(muscle_atlas['Number']== im),\"Proportion_Periph_nuclei\"]=dataframe.loc['Proportion (%)','N° Periph. Nuclei']\n",
    "   # muscle_atlas.loc[(muscle_atlas['Number']== im),\"Number_Cells with 1+ intern.nuc\"]=dataframe.loc['Raw count','N° Cells with 1+ intern. nuc.']\n",
    "    muscle_atlas.loc[(muscle_atlas['Number']== im),\"Number_Cells with 1+ intern.nuc\"]=dataframe.iloc[0,3]\n",
    "    muscle_atlas.loc[(muscle_atlas['Number']== im),\"Proportion_Cells with 1+ intern. nuc\"]=dataframe.loc['Proportion (%)','N° Cells with 1+ intern. nuc.']\n",
    "\n",
    "    \n",
    "\n",
    "ajout_He('30.jpg',df4,df)   \n",
    "df.head(10)"
   ]
  },
  {
   "cell_type": "code",
   "execution_count": null,
   "metadata": {},
   "outputs": [],
   "source": []
  },
  {
   "cell_type": "code",
   "execution_count": null,
   "metadata": {},
   "outputs": [],
   "source": []
  }
 ],
 "metadata": {
  "kernelspec": {
   "display_name": "Python 3.9.13 ('stage-afaf')",
   "language": "python",
   "name": "python3"
  },
  "language_info": {
   "codemirror_mode": {
    "name": "ipython",
    "version": 3
   },
   "file_extension": ".py",
   "mimetype": "text/x-python",
   "name": "python",
   "nbconvert_exporter": "python",
   "pygments_lexer": "ipython3",
   "version": "3.9.13"
  },
  "orig_nbformat": 4,
  "vscode": {
   "interpreter": {
    "hash": "d0f278cb1c0d1780c7b3f81b6d83f04ff3238e002e40dd73cadd16a5dde7e268"
   }
  }
 },
 "nbformat": 4,
 "nbformat_minor": 2
}
