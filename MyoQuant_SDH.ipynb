{
 "cells": [
  {
   "cell_type": "code",
   "execution_count": null,
   "metadata": {},
   "outputs": [],
   "source": [
    "import subprocess\n",
    "import pandas as pd"
   ]
  },
  {
   "cell_type": "code",
   "execution_count": null,
   "metadata": {},
   "outputs": [],
   "source": [
    "df=pd.read_csv('muscle_atlas_clean.csv')\n"
   ]
  },
  {
   "cell_type": "code",
   "execution_count": null,
   "metadata": {},
   "outputs": [],
   "source": [
    "file_paths = []\n",
    "\n",
    "for folder, subs, files in os.walk(\"/Users/afaf/stage-afaf/images\"):\n",
    "  for filename in files:\n",
    "    file_paths.append(os.path.abspath(os.path.join(folder, filename)))\n",
    "\n",
    "file_paths"
   ]
  },
  {
   "cell_type": "code",
   "execution_count": null,
   "metadata": {},
   "outputs": [],
   "source": [
    "myoquant= subprocess.run(['myoquant', \"sdh-analysis\", '/Users/afaf/stage-afaf/images/14.jpg','--output-path',  '/Users/afaf/stage-afaf/data'])"
   ]
  },
  {
   "cell_type": "code",
   "execution_count": null,
   "metadata": {},
   "outputs": [],
   "source": [
    "fichier_sdh = []\n",
    "\n",
    "for folder, subs, files in os.walk(\"/Users/afaf/stage-afaf/data\"):\n",
    "  for filename_sdh in files:\n",
    "    if filename_sdh.endswith(('_results.csv')):\n",
    "        fichier_sdh.append(os.path.abspath(os.path.join(folder, filename_sdh)))\n",
    "\n",
    "fichier_sdh"
   ]
  },
  {
   "cell_type": "code",
   "execution_count": null,
   "metadata": {},
   "outputs": [],
   "source": [
    "path = \"/Users/afaf/stage-afaf/Images_sdh\"\n",
    "dirs = os.listdir( path )\n",
    "dirs"
   ]
  },
  {
   "cell_type": "code",
   "execution_count": null,
   "metadata": {},
   "outputs": [],
   "source": [
    "def ajout_SDH (im,dataframe,muscle_atlas):\n",
    "    \n",
    "    muscle_atlas.loc[(muscle_atlas['Number']== im),\"Total cells (%)\"]=dataframe.iloc[1,0]\n",
    "    #muscle_atlas.loc[(muscle_atlas['Number']== im),\"Number_nuclei\"]=dataframe.loc['Raw count','N° Nuclei']\n",
    "    muscle_atlas.loc[(muscle_atlas['Number']== im),\"Number_cells\"]=dataframe.iloc[0,0]\n",
    "    muscle_atlas.loc[(muscle_atlas['Number']== im),\"normals_cells (%)\"]=dataframe.iloc[1,1]\n",
    "    #muscle_atlas.loc[(muscle_atlas['Number']== im),\"Number_intern_nuclei\"]=dataframe.loc['Raw Count','N° Intern. Nuclei']\n",
    "    muscle_atlas.loc[(muscle_atlas['Number']== im),\"normals_cells\"]=dataframe.iloc[0,1]\n",
    "    #muscle_atlas.loc[(muscle_atlas['Number']== im),\"Number_Periph_nuclei\"]=dataframe.loc['Raw count','N° Periph. Nuclei']\n",
    "    muscle_atlas.loc[(muscle_atlas['Number']== im),\"sick_cells\"]=dataframe.iloc[0,2]\n",
    "    muscle_atlas.loc[(muscle_atlas['Number']== im),\"sick_cells (%)\"]=dataframe.iloc[1,2]\n",
    "   "
   ]
  },
  {
   "cell_type": "code",
   "execution_count": null,
   "metadata": {},
   "outputs": [],
   "source": [
    "for j ,images in zip(fichier_sdh,dirs):\n",
    "    df_results_sdh=pd.read_csv(j)\n",
    "    df_sdh=df_results_sdh.set_index('Feature')\n",
    "    df_sdh1=df_sdh.transpose()\n",
    "    data_sdh = {'Muscle Fibers': [],'control':[],'sick': []} \n",
    "    df_sdh2 = pd.DataFrame(data_sdh)  \n",
    "    df_sdh3 = df_sdh2.append(df_sdh1,ignore_index = True)\n",
    "    ajout_SDH(images,df_sdh3,df) \n",
    "\n",
    "df\n",
    " \n",
    " \n"
   ]
  },
  {
   "cell_type": "code",
   "execution_count": null,
   "metadata": {},
   "outputs": [],
   "source": [
    "ath = os.getcwd()\n",
    "csv_files = []\n",
    "for folder, subs, files in os.walk(\"/Users/afaf/stage-afaf/data\"):\n",
    "  for filename in files:\n",
    "    if filename.endswith(('_results.csv')):\n",
    "        csv_files .append(os.path.abspath(os.path.join(folder, filename)))"
   ]
  },
  {
   "cell_type": "code",
   "execution_count": null,
   "metadata": {},
   "outputs": [],
   "source": [
    "for j ,images in zip(fichier_sdh,dirs):\n",
    "    df_results_sdh=pd.read_csv(j)\n",
    "    df_sdh=df_results_sdh.set_index('Feature')\n",
    "    df_sdh1=df_sdh.transpose()\n",
    "    data_sdh = {'Muscle Fibers': [],'control':[],'sick': []} \n",
    "    df_sdh2 = pd.DataFrame(data_sdh)  \n",
    "    df_sdh3 = df_sdh2.append(df_sdh1,ignore_index = True)\n",
    "    #display(df_sdh3)\n",
    "    df_sdh3.to_csv(j,sep=\",\", index=False)\n",
    "    \n",
    "\n"
   ]
  },
  {
   "cell_type": "code",
   "execution_count": null,
   "metadata": {},
   "outputs": [],
   "source": [
    "for j ,images in zip(fichier_sdh,dirs):\n",
    "    df_sdh_final=pd.read_csv(j)\n",
    "    ajout_SDH(images,df_sdh_final,df) \n",
    "df"
   ]
  },
  {
   "cell_type": "code",
   "execution_count": null,
   "metadata": {},
   "outputs": [],
   "source": []
  }
 ],
 "metadata": {
  "kernelspec": {
   "display_name": "Python 3.9.13 ('stage-afaf')",
   "language": "python",
   "name": "python3"
  },
  "language_info": {
   "codemirror_mode": {
    "name": "ipython",
    "version": 3
   },
   "file_extension": ".py",
   "mimetype": "text/x-python",
   "name": "python",
   "nbconvert_exporter": "python",
   "pygments_lexer": "ipython3",
   "version": "3.9.13"
  },
  "orig_nbformat": 4,
  "vscode": {
   "interpreter": {
    "hash": "d0f278cb1c0d1780c7b3f81b6d83f04ff3238e002e40dd73cadd16a5dde7e268"
   }
  }
 },
 "nbformat": 4,
 "nbformat_minor": 2
}
