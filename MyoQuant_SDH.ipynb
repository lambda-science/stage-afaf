{
 "cells": [
  {
   "cell_type": "code",
   "execution_count": 1,
   "metadata": {},
   "outputs": [],
   "source": [
    "import subprocess\n"
   ]
  },
  {
   "cell_type": "code",
   "execution_count": 3,
   "metadata": {},
   "outputs": [
    {
     "data": {
      "text/plain": [
       "['/Users/afaf/stage-afaf/images/30.jpg',\n",
       " '/Users/afaf/stage-afaf/images/5.jpg',\n",
       " '/Users/afaf/stage-afaf/images/6.jpg']"
      ]
     },
     "execution_count": 3,
     "metadata": {},
     "output_type": "execute_result"
    }
   ],
   "source": [
    "file_paths = []\n",
    "\n",
    "for folder, subs, files in os.walk(\"/Users/afaf/stage-afaf/images\"):\n",
    "  for filename in files:\n",
    "    file_paths.append(os.path.abspath(os.path.join(folder, filename)))\n",
    "\n",
    "file_paths"
   ]
  },
  {
   "cell_type": "code",
   "execution_count": 7,
   "metadata": {},
   "outputs": [
    {
     "name": "stdout",
     "output_type": "stream",
     "text": [
      "👋 Welcome to the mitochondrial distribution analysis (SDH images)\n",
      "📄 INPUT: raw image: /Users/afaf/stage-afaf/images/6.jpg\n",
      "💡 INFO: No CellPose mask provided, will run CellPose during the analysis.\n",
      "💡 INFO: No SDH model provided, will download or use latest one.\n",
      "⠋ Downloading SDH Model... 0:00:00\n"
     ]
    }
   ],
   "source": [
    "myoquant= subprocess.run(['myoquant', \"sdh-analysis\", '/Users/afaf/stage-afaf/images/6.jpg','--output-path',  '/Users/afaf/stage-afaf/data'])"
   ]
  },
  {
   "cell_type": "code",
   "execution_count": null,
   "metadata": {},
   "outputs": [],
   "source": []
  }
 ],
 "metadata": {
  "kernelspec": {
   "display_name": "Python 3.9.13 ('stage-afaf')",
   "language": "python",
   "name": "python3"
  },
  "language_info": {
   "codemirror_mode": {
    "name": "ipython",
    "version": 3
   },
   "file_extension": ".py",
   "mimetype": "text/x-python",
   "name": "python",
   "nbconvert_exporter": "python",
   "pygments_lexer": "ipython3",
   "version": "3.9.13"
  },
  "orig_nbformat": 4,
  "vscode": {
   "interpreter": {
    "hash": "d0f278cb1c0d1780c7b3f81b6d83f04ff3238e002e40dd73cadd16a5dde7e268"
   }
  }
 },
 "nbformat": 4,
 "nbformat_minor": 2
}
